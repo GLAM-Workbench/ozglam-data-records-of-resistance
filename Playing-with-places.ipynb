{
 "cells": [
  {
   "cell_type": "markdown",
   "metadata": {},
   "source": [
    "# Playing with places"
   ]
  },
  {
   "cell_type": "code",
   "execution_count": null,
   "metadata": {},
   "outputs": [],
   "source": [
    "import pandas as pd\n",
    "import folium\n",
    "from folium.plugins import MarkerCluster\n",
    "from folium.plugins import HeatMap"
   ]
  },
  {
   "cell_type": "code",
   "execution_count": null,
   "metadata": {},
   "outputs": [],
   "source": [
    "df = pd.read_csv('data/Mapping Places Spreadsheet - Sheet1.csv', keep_default_na=False)\n",
    "df.head()"
   ]
  },
  {
   "cell_type": "markdown",
   "metadata": {},
   "source": [
    "## Clean up the data"
   ]
  },
  {
   "cell_type": "code",
   "execution_count": null,
   "metadata": {},
   "outputs": [],
   "source": [
    "# Clean up the lats and lons\n",
    "df = df.replace({'°\\s*[EWNS]+': ''}, regex=True)\n",
    "df = df.replace({'\\s*[EWNS]+$': ''}, regex=True)\n",
    "df['Latitude'] = pd.to_numeric(df['Latitude'], errors='coerce')\n",
    "df['Longitude'] = pd.to_numeric(df['Longitude'], errors='coerce')\n",
    "df.head()"
   ]
  },
  {
   "cell_type": "markdown",
   "metadata": {},
   "source": [
    "## Reorganise the data so we have one row per image"
   ]
  },
  {
   "cell_type": "code",
   "execution_count": null,
   "metadata": {},
   "outputs": [],
   "source": [
    "# This cell creates a CSV file with a row for each image, preserving all the parent item metadata\n",
    "\n",
    "def tidy_split(df, column, sep='|', keep=False):\n",
    "    \"\"\"\n",
    "    Split the values of a column and expand so the new DataFrame has one split\n",
    "    value per row. Filters rows where the column is missing.\n",
    "\n",
    "    Params\n",
    "    ------\n",
    "    df : pandas.DataFrame\n",
    "        dataframe with the column to split and expand\n",
    "    column : str\n",
    "        the column to split and expand\n",
    "    sep : str\n",
    "        the string used to split the column's values\n",
    "    keep : bool\n",
    "        whether to retain the presplit value as it's own row\n",
    "\n",
    "    Returns\n",
    "    -------\n",
    "    pandas.DataFrame\n",
    "        Returns a dataframe with the same columns as `df`.\n",
    "    \"\"\"\n",
    "    indexes = list()\n",
    "    new_values = list()\n",
    "    df = df.dropna(subset=[column])\n",
    "    for i, presplit in enumerate(df[column].astype(str)):\n",
    "        values = presplit.split(sep)\n",
    "        if keep and len(values) > 1:\n",
    "            indexes.append(i)\n",
    "            new_values.append(presplit)\n",
    "        for value in values:\n",
    "            indexes.append(i)\n",
    "            new_values.append(value)\n",
    "    new_df = df.iloc[indexes, :].copy()\n",
    "    new_df[column] = new_values\n",
    "    return new_df\n",
    "\n",
    "images_df = tidy_split(df, 'File Number', sep='|')\n",
    "\n",
    "# Reomve rows with no images\n",
    "images_df = images_df.loc[images_df['File Number'] != '']\n",
    "images_df.head()"
   ]
  },
  {
   "cell_type": "markdown",
   "metadata": {},
   "source": [
    "## Summarise the data"
   ]
  },
  {
   "cell_type": "code",
   "execution_count": null,
   "metadata": {},
   "outputs": [],
   "source": [
    "#How many images have been geo-located?\n",
    "images_df = images_df.loc[images_df['Latitude'].notnull() & images_df['Longitude'].notnull()]\n",
    "images_df.shape[0]"
   ]
  },
  {
   "cell_type": "code",
   "execution_count": null,
   "metadata": {
    "scrolled": true
   },
   "outputs": [],
   "source": [
    "# Top 50 places!\n",
    "images_df['Place Name'].value_counts()[:50]"
   ]
  },
  {
   "cell_type": "code",
   "execution_count": null,
   "metadata": {
    "scrolled": false
   },
   "outputs": [],
   "source": [
    "m = folium.Map(\n",
    "    location=[-30, 135],\n",
    "    zoom_start=4\n",
    ")\n",
    "# We'll cluster the markers for better readability\n",
    "marker_cluster = MarkerCluster().add_to(m)\n",
    "\n",
    "for index, img in images_df.iterrows():\n",
    "    # Create the content of the marker popup -- includes a search link back to Trove!\n",
    "    #html = '<b>{}</b><br><a target=\"_blank\" href=\"https://trove.nla.gov.au/newspaper/result?q={}&l-title={}&l-category={}\">{} articles'.format(place[0], params['q'], titles, params.get('l-category', ''), total)\n",
    "    # Add the marker to the map\n",
    "    html = '<b>{0}</b><br><a target=\"_blank\" href=\"http://digital.sl.nsw.gov.au/delivery/DeliveryManagerServlet?dps_pid={1}&embedded=true&toolbar=false\"><img width=\"200\" src=\"https://s3-ap-southeast-2.amazonaws.com/wraggetribune/images/500/{1}-500.jpg\"></a>'.format(img['Place Name'].replace(\"'\", ';rsquo'), img['File Number'])\n",
    "    folium.Marker([img['Latitude'], img['Longitude']], popup=html).add_to(marker_cluster)\n",
    "\n",
    "m"
   ]
  },
  {
   "cell_type": "code",
   "execution_count": null,
   "metadata": {},
   "outputs": [],
   "source": [
    "places_df = df.loc[df['Latitude'].notnull() & df['Longitude'].notnull()]\n",
    "locations = []\n",
    "# Loop through the places\n",
    "for index, row in places_df.iterrows():\n",
    "    # Get the total\n",
    "    images = row['File Number'].split('|')\n",
    "    # Add the coordinates of the place to the list of locations as many times as there are articles\n",
    "    locations += ([[row['Latitude'], row['Longitude']]] * len(images))\n",
    "\n",
    "\n",
    "# Create another map\n",
    "m2 = folium.Map(\n",
    "    location=[-30, 135],\n",
    "    zoom_start=4\n",
    ")\n",
    "\n",
    "#Add the heatmap data!\n",
    "HeatMap(locations).add_to(m2)\n",
    "m2"
   ]
  },
  {
   "cell_type": "code",
   "execution_count": null,
   "metadata": {},
   "outputs": [],
   "source": []
  }
 ],
 "metadata": {
  "kernelspec": {
   "display_name": "Python 3",
   "language": "python",
   "name": "python3"
  },
  "language_info": {
   "codemirror_mode": {
    "name": "ipython",
    "version": 3
   },
   "file_extension": ".py",
   "mimetype": "text/x-python",
   "name": "python",
   "nbconvert_exporter": "python",
   "pygments_lexer": "ipython3",
   "version": "3.6.5"
  }
 },
 "nbformat": 4,
 "nbformat_minor": 2
}
